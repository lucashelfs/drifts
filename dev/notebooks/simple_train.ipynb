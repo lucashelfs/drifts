{
 "cells": [
  {
   "cell_type": "code",
   "execution_count": 2,
   "metadata": {},
   "outputs": [],
   "source": [
    "import pandas as pd\n",
    "from usp_stream_datasets import *\n",
    "\n",
    "pd.set_option('mode.use_inf_as_na', True)\n",
    "\n",
    "dataset = \"Abrupt (bal.)\"\n",
    "change_points = insects_datasets[dataset][\"change_point\"]\n",
    "df = load_insect_dataset(insects_datasets[dataset][\"filename\"])\n",
    "\n",
    "first_abrupt_change_point = change_points[0]\n",
    "\n",
    "df_train = df.iloc[:first_abrupt_change_point].copy()\n",
    "df_test = df.iloc[first_abrupt_change_point:].copy()\n",
    "# del df\n",
    "\n",
    "from sklearn.preprocessing import LabelEncoder\n",
    "\n",
    "y = df_train.pop(\"class\")\n",
    "le = LabelEncoder()\n",
    "y_hat = le.fit_transform(y)\n",
    "\n",
    "df_train[\"target\"] = y_hat"
   ]
  },
  {
   "cell_type": "code",
   "execution_count": 22,
   "metadata": {},
   "outputs": [],
   "source": [
    "# from pycaret.classification import *\n",
    "# clf1 = setup(df, target = 'target', session_id=123, log_experiment=True, experiment_name='first_pycaret')"
   ]
  },
  {
   "cell_type": "code",
   "execution_count": 18,
   "metadata": {},
   "outputs": [
    {
     "data": {
      "text/html": [
       "<style type=\"text/css\">\n",
       "#T_e19de_row8_col1, #T_e19de_row12_col1 {\n",
       "  background-color: lightgreen;\n",
       "}\n",
       "</style>\n",
       "<table id=\"T_e19de\">\n",
       "  <thead>\n",
       "    <tr>\n",
       "      <th class=\"blank level0\" >&nbsp;</th>\n",
       "      <th id=\"T_e19de_level0_col0\" class=\"col_heading level0 col0\" >Description</th>\n",
       "      <th id=\"T_e19de_level0_col1\" class=\"col_heading level0 col1\" >Value</th>\n",
       "    </tr>\n",
       "  </thead>\n",
       "  <tbody>\n",
       "    <tr>\n",
       "      <th id=\"T_e19de_level0_row0\" class=\"row_heading level0 row0\" >0</th>\n",
       "      <td id=\"T_e19de_row0_col0\" class=\"data row0 col0\" >Session id</td>\n",
       "      <td id=\"T_e19de_row0_col1\" class=\"data row0 col1\" >1</td>\n",
       "    </tr>\n",
       "    <tr>\n",
       "      <th id=\"T_e19de_level0_row1\" class=\"row_heading level0 row1\" >1</th>\n",
       "      <td id=\"T_e19de_row1_col0\" class=\"data row1 col0\" >Target</td>\n",
       "      <td id=\"T_e19de_row1_col1\" class=\"data row1 col1\" >target</td>\n",
       "    </tr>\n",
       "    <tr>\n",
       "      <th id=\"T_e19de_level0_row2\" class=\"row_heading level0 row2\" >2</th>\n",
       "      <td id=\"T_e19de_row2_col0\" class=\"data row2 col0\" >Target type</td>\n",
       "      <td id=\"T_e19de_row2_col1\" class=\"data row2 col1\" >Multiclass</td>\n",
       "    </tr>\n",
       "    <tr>\n",
       "      <th id=\"T_e19de_level0_row3\" class=\"row_heading level0 row3\" >3</th>\n",
       "      <td id=\"T_e19de_row3_col0\" class=\"data row3 col0\" >Original data shape</td>\n",
       "      <td id=\"T_e19de_row3_col1\" class=\"data row3 col1\" >(14352, 34)</td>\n",
       "    </tr>\n",
       "    <tr>\n",
       "      <th id=\"T_e19de_level0_row4\" class=\"row_heading level0 row4\" >4</th>\n",
       "      <td id=\"T_e19de_row4_col0\" class=\"data row4 col0\" >Transformed data shape</td>\n",
       "      <td id=\"T_e19de_row4_col1\" class=\"data row4 col1\" >(22210, 34)</td>\n",
       "    </tr>\n",
       "    <tr>\n",
       "      <th id=\"T_e19de_level0_row5\" class=\"row_heading level0 row5\" >5</th>\n",
       "      <td id=\"T_e19de_row5_col0\" class=\"data row5 col0\" >Transformed train set shape</td>\n",
       "      <td id=\"T_e19de_row5_col1\" class=\"data row5 col1\" >(17904, 34)</td>\n",
       "    </tr>\n",
       "    <tr>\n",
       "      <th id=\"T_e19de_level0_row6\" class=\"row_heading level0 row6\" >6</th>\n",
       "      <td id=\"T_e19de_row6_col0\" class=\"data row6 col0\" >Transformed test set shape</td>\n",
       "      <td id=\"T_e19de_row6_col1\" class=\"data row6 col1\" >(4306, 34)</td>\n",
       "    </tr>\n",
       "    <tr>\n",
       "      <th id=\"T_e19de_level0_row7\" class=\"row_heading level0 row7\" >7</th>\n",
       "      <td id=\"T_e19de_row7_col0\" class=\"data row7 col0\" >Numeric features</td>\n",
       "      <td id=\"T_e19de_row7_col1\" class=\"data row7 col1\" >33</td>\n",
       "    </tr>\n",
       "    <tr>\n",
       "      <th id=\"T_e19de_level0_row8\" class=\"row_heading level0 row8\" >8</th>\n",
       "      <td id=\"T_e19de_row8_col0\" class=\"data row8 col0\" >Preprocess</td>\n",
       "      <td id=\"T_e19de_row8_col1\" class=\"data row8 col1\" >True</td>\n",
       "    </tr>\n",
       "    <tr>\n",
       "      <th id=\"T_e19de_level0_row9\" class=\"row_heading level0 row9\" >9</th>\n",
       "      <td id=\"T_e19de_row9_col0\" class=\"data row9 col0\" >Imputation type</td>\n",
       "      <td id=\"T_e19de_row9_col1\" class=\"data row9 col1\" >simple</td>\n",
       "    </tr>\n",
       "    <tr>\n",
       "      <th id=\"T_e19de_level0_row10\" class=\"row_heading level0 row10\" >10</th>\n",
       "      <td id=\"T_e19de_row10_col0\" class=\"data row10 col0\" >Numeric imputation</td>\n",
       "      <td id=\"T_e19de_row10_col1\" class=\"data row10 col1\" >mean</td>\n",
       "    </tr>\n",
       "    <tr>\n",
       "      <th id=\"T_e19de_level0_row11\" class=\"row_heading level0 row11\" >11</th>\n",
       "      <td id=\"T_e19de_row11_col0\" class=\"data row11 col0\" >Categorical imputation</td>\n",
       "      <td id=\"T_e19de_row11_col1\" class=\"data row11 col1\" >mode</td>\n",
       "    </tr>\n",
       "    <tr>\n",
       "      <th id=\"T_e19de_level0_row12\" class=\"row_heading level0 row12\" >12</th>\n",
       "      <td id=\"T_e19de_row12_col0\" class=\"data row12 col0\" >Fix imbalance</td>\n",
       "      <td id=\"T_e19de_row12_col1\" class=\"data row12 col1\" >True</td>\n",
       "    </tr>\n",
       "    <tr>\n",
       "      <th id=\"T_e19de_level0_row13\" class=\"row_heading level0 row13\" >13</th>\n",
       "      <td id=\"T_e19de_row13_col0\" class=\"data row13 col0\" >Fix imbalance method</td>\n",
       "      <td id=\"T_e19de_row13_col1\" class=\"data row13 col1\" >SMOTE</td>\n",
       "    </tr>\n",
       "    <tr>\n",
       "      <th id=\"T_e19de_level0_row14\" class=\"row_heading level0 row14\" >14</th>\n",
       "      <td id=\"T_e19de_row14_col0\" class=\"data row14 col0\" >Fold Generator</td>\n",
       "      <td id=\"T_e19de_row14_col1\" class=\"data row14 col1\" >StratifiedKFold</td>\n",
       "    </tr>\n",
       "    <tr>\n",
       "      <th id=\"T_e19de_level0_row15\" class=\"row_heading level0 row15\" >15</th>\n",
       "      <td id=\"T_e19de_row15_col0\" class=\"data row15 col0\" >Fold Number</td>\n",
       "      <td id=\"T_e19de_row15_col1\" class=\"data row15 col1\" >10</td>\n",
       "    </tr>\n",
       "    <tr>\n",
       "      <th id=\"T_e19de_level0_row16\" class=\"row_heading level0 row16\" >16</th>\n",
       "      <td id=\"T_e19de_row16_col0\" class=\"data row16 col0\" >CPU Jobs</td>\n",
       "      <td id=\"T_e19de_row16_col1\" class=\"data row16 col1\" >-1</td>\n",
       "    </tr>\n",
       "    <tr>\n",
       "      <th id=\"T_e19de_level0_row17\" class=\"row_heading level0 row17\" >17</th>\n",
       "      <td id=\"T_e19de_row17_col0\" class=\"data row17 col0\" >Use GPU</td>\n",
       "      <td id=\"T_e19de_row17_col1\" class=\"data row17 col1\" >False</td>\n",
       "    </tr>\n",
       "    <tr>\n",
       "      <th id=\"T_e19de_level0_row18\" class=\"row_heading level0 row18\" >18</th>\n",
       "      <td id=\"T_e19de_row18_col0\" class=\"data row18 col0\" >Log Experiment</td>\n",
       "      <td id=\"T_e19de_row18_col1\" class=\"data row18 col1\" >False</td>\n",
       "    </tr>\n",
       "    <tr>\n",
       "      <th id=\"T_e19de_level0_row19\" class=\"row_heading level0 row19\" >19</th>\n",
       "      <td id=\"T_e19de_row19_col0\" class=\"data row19 col0\" >Experiment Name</td>\n",
       "      <td id=\"T_e19de_row19_col1\" class=\"data row19 col1\" >clf-default-name</td>\n",
       "    </tr>\n",
       "    <tr>\n",
       "      <th id=\"T_e19de_level0_row20\" class=\"row_heading level0 row20\" >20</th>\n",
       "      <td id=\"T_e19de_row20_col0\" class=\"data row20 col0\" >USI</td>\n",
       "      <td id=\"T_e19de_row20_col1\" class=\"data row20 col1\" >d133</td>\n",
       "    </tr>\n",
       "  </tbody>\n",
       "</table>\n"
      ],
      "text/plain": [
       "<pandas.io.formats.style.Styler at 0x7fec56bb4290>"
      ]
     },
     "metadata": {},
     "output_type": "display_data"
    },
    {
     "data": {
      "text/plain": [
       "<pycaret.classification.oop.ClassificationExperiment at 0x7fec56661590>"
      ]
     },
     "execution_count": 18,
     "metadata": {},
     "output_type": "execute_result"
    }
   ],
   "source": [
    "from pycaret.classification import ClassificationExperiment\n",
    "\n",
    "s = ClassificationExperiment()\n",
    "s.setup(df_train, target = 'target', session_id = 1, fix_imbalance = True)"
   ]
  },
  {
   "cell_type": "code",
   "execution_count": 19,
   "metadata": {},
   "outputs": [
    {
     "data": {
      "text/plain": [
       "5    4263\n",
       "4    3999\n",
       "1    3883\n",
       "0    3572\n",
       "2    3420\n",
       "3    3073\n",
       "Name: target, dtype: int64"
      ]
     },
     "execution_count": 19,
     "metadata": {},
     "output_type": "execute_result"
    }
   ],
   "source": [
    "s.dataset_transformed.target.value_counts()"
   ]
  },
  {
   "cell_type": "code",
   "execution_count": 21,
   "metadata": {},
   "outputs": [
    {
     "ename": "ValueError",
     "evalue": "Estimator None does not have the required fit() method.",
     "output_type": "error",
     "traceback": [
      "\u001b[0;31m---------------------------------------------------------------------------\u001b[0m",
      "\u001b[0;31mValueError\u001b[0m                                Traceback (most recent call last)",
      "Cell \u001b[0;32mIn[21], line 1\u001b[0m\n\u001b[0;32m----> 1\u001b[0m \u001b[43ms\u001b[49m\u001b[38;5;241;43m.\u001b[39;49m\u001b[43mautoml\u001b[49m\u001b[43m(\u001b[49m\u001b[43m)\u001b[49m\n",
      "File \u001b[0;32m/app/.venv/lib/python3.11/site-packages/pycaret/classification/oop.py:3173\u001b[0m, in \u001b[0;36mClassificationExperiment.automl\u001b[0;34m(self, optimize, use_holdout, turbo, return_train_score)\u001b[0m\n\u001b[1;32m   3120\u001b[0m \u001b[38;5;28;01mdef\u001b[39;00m \u001b[38;5;21mautoml\u001b[39m(\n\u001b[1;32m   3121\u001b[0m     \u001b[38;5;28mself\u001b[39m,\n\u001b[1;32m   3122\u001b[0m     optimize: \u001b[38;5;28mstr\u001b[39m \u001b[38;5;241m=\u001b[39m \u001b[38;5;124m\"\u001b[39m\u001b[38;5;124mAccuracy\u001b[39m\u001b[38;5;124m\"\u001b[39m,\n\u001b[0;32m   (...)\u001b[0m\n\u001b[1;32m   3125\u001b[0m     return_train_score: \u001b[38;5;28mbool\u001b[39m \u001b[38;5;241m=\u001b[39m \u001b[38;5;28;01mFalse\u001b[39;00m,\n\u001b[1;32m   3126\u001b[0m ) \u001b[38;5;241m-\u001b[39m\u001b[38;5;241m>\u001b[39m Any:\n\u001b[1;32m   3128\u001b[0m \u001b[38;5;250m    \u001b[39m\u001b[38;5;124;03m\"\"\"\u001b[39;00m\n\u001b[1;32m   3129\u001b[0m \u001b[38;5;124;03m    This function returns the best model out of all trained models in\u001b[39;00m\n\u001b[1;32m   3130\u001b[0m \u001b[38;5;124;03m    current session based on the ``optimize`` parameter. Metrics\u001b[39;00m\n\u001b[0;32m   (...)\u001b[0m\n\u001b[1;32m   3171\u001b[0m \u001b[38;5;124;03m        Trained Model\u001b[39;00m\n\u001b[1;32m   3172\u001b[0m \u001b[38;5;124;03m    \"\"\"\u001b[39;00m\n\u001b[0;32m-> 3173\u001b[0m     \u001b[38;5;28;01mreturn\u001b[39;00m \u001b[38;5;28;43msuper\u001b[39;49m\u001b[43m(\u001b[49m\u001b[43m)\u001b[49m\u001b[38;5;241;43m.\u001b[39;49m\u001b[43mautoml\u001b[49m\u001b[43m(\u001b[49m\n\u001b[1;32m   3174\u001b[0m \u001b[43m        \u001b[49m\u001b[43moptimize\u001b[49m\u001b[38;5;241;43m=\u001b[39;49m\u001b[43moptimize\u001b[49m\u001b[43m,\u001b[49m\n\u001b[1;32m   3175\u001b[0m \u001b[43m        \u001b[49m\u001b[43muse_holdout\u001b[49m\u001b[38;5;241;43m=\u001b[39;49m\u001b[43muse_holdout\u001b[49m\u001b[43m,\u001b[49m\n\u001b[1;32m   3176\u001b[0m \u001b[43m        \u001b[49m\u001b[43mturbo\u001b[49m\u001b[38;5;241;43m=\u001b[39;49m\u001b[43mturbo\u001b[49m\u001b[43m,\u001b[49m\n\u001b[1;32m   3177\u001b[0m \u001b[43m        \u001b[49m\u001b[43mreturn_train_score\u001b[49m\u001b[38;5;241;43m=\u001b[39;49m\u001b[43mreturn_train_score\u001b[49m\u001b[43m,\u001b[49m\n\u001b[1;32m   3178\u001b[0m \u001b[43m    \u001b[49m\u001b[43m)\u001b[49m\n",
      "File \u001b[0;32m/app/.venv/lib/python3.11/site-packages/pycaret/internal/pycaret_experiment/supervised_experiment.py:5379\u001b[0m, in \u001b[0;36m_SupervisedExperiment.automl\u001b[0;34m(self, optimize, use_holdout, turbo, return_train_score)\u001b[0m\n\u001b[1;32m   5376\u001b[0m             best_model \u001b[38;5;241m=\u001b[39m model[\u001b[38;5;124m\"\u001b[39m\u001b[38;5;124mmodel\u001b[39m\u001b[38;5;124m\"\u001b[39m]\n\u001b[1;32m   5377\u001b[0m             best_score \u001b[38;5;241m=\u001b[39m r\n\u001b[0;32m-> 5379\u001b[0m automl_model, _ \u001b[38;5;241m=\u001b[39m \u001b[38;5;28;43mself\u001b[39;49m\u001b[38;5;241;43m.\u001b[39;49m\u001b[43m_create_model\u001b[49m\u001b[43m(\u001b[49m\u001b[43m  \u001b[49m\u001b[38;5;66;43;03m# type: ignore\u001b[39;49;00m\n\u001b[1;32m   5380\u001b[0m \u001b[43m    \u001b[49m\u001b[43mestimator\u001b[49m\u001b[38;5;241;43m=\u001b[39;49m\u001b[43mbest_model\u001b[49m\u001b[43m,\u001b[49m\n\u001b[1;32m   5381\u001b[0m \u001b[43m    \u001b[49m\u001b[43msystem\u001b[49m\u001b[38;5;241;43m=\u001b[39;49m\u001b[38;5;28;43;01mFalse\u001b[39;49;00m\u001b[43m,\u001b[49m\n\u001b[1;32m   5382\u001b[0m \u001b[43m    \u001b[49m\u001b[43mverbose\u001b[49m\u001b[38;5;241;43m=\u001b[39;49m\u001b[38;5;28;43;01mFalse\u001b[39;49;00m\u001b[43m,\u001b[49m\n\u001b[1;32m   5383\u001b[0m \u001b[43m    \u001b[49m\u001b[43mcross_validation\u001b[49m\u001b[38;5;241;43m=\u001b[39;49m\u001b[38;5;28;43;01mFalse\u001b[39;49;00m\u001b[43m,\u001b[49m\n\u001b[1;32m   5384\u001b[0m \u001b[43m    \u001b[49m\u001b[43mpredict\u001b[49m\u001b[38;5;241;43m=\u001b[39;49m\u001b[38;5;28;43;01mFalse\u001b[39;49;00m\u001b[43m,\u001b[49m\n\u001b[1;32m   5385\u001b[0m \u001b[43m    \u001b[49m\u001b[43mgroups\u001b[49m\u001b[38;5;241;43m=\u001b[39;49m\u001b[38;5;28;43mself\u001b[39;49m\u001b[38;5;241;43m.\u001b[39;49m\u001b[43mfold_groups_param\u001b[49m\u001b[43m,\u001b[49m\n\u001b[1;32m   5386\u001b[0m \u001b[43m    \u001b[49m\u001b[43mreturn_train_score\u001b[49m\u001b[38;5;241;43m=\u001b[39;49m\u001b[43mreturn_train_score\u001b[49m\u001b[43m,\u001b[49m\n\u001b[1;32m   5387\u001b[0m \u001b[43m\u001b[49m\u001b[43m)\u001b[49m\n\u001b[1;32m   5389\u001b[0m gc\u001b[38;5;241m.\u001b[39mcollect()\n\u001b[1;32m   5391\u001b[0m \u001b[38;5;28mself\u001b[39m\u001b[38;5;241m.\u001b[39mlogger\u001b[38;5;241m.\u001b[39minfo(\u001b[38;5;28mstr\u001b[39m(automl_model))\n",
      "File \u001b[0;32m/app/.venv/lib/python3.11/site-packages/pycaret/internal/pycaret_experiment/supervised_experiment.py:1335\u001b[0m, in \u001b[0;36m_SupervisedExperiment._create_model\u001b[0;34m(self, estimator, fold, round, cross_validation, predict, fit_kwargs, groups, refit, probability_threshold, experiment_custom_tags, verbose, system, add_to_model_list, X_train_data, y_train_data, metrics, display, model_only, return_train_score, **kwargs)\u001b[0m\n\u001b[1;32m   1331\u001b[0m         \u001b[38;5;28;01mraise\u001b[39;00m \u001b[38;5;167;01mValueError\u001b[39;00m(\n\u001b[1;32m   1332\u001b[0m             \u001b[38;5;124mf\u001b[39m\u001b[38;5;124m\"\u001b[39m\u001b[38;5;124mEstimator \u001b[39m\u001b[38;5;132;01m{\u001b[39;00mestimator\u001b[38;5;132;01m}\u001b[39;00m\u001b[38;5;124m not available. Please see docstring for list of available estimators.\u001b[39m\u001b[38;5;124m\"\u001b[39m\n\u001b[1;32m   1333\u001b[0m         )\n\u001b[1;32m   1334\u001b[0m \u001b[38;5;28;01melif\u001b[39;00m \u001b[38;5;129;01mnot\u001b[39;00m \u001b[38;5;28mhasattr\u001b[39m(estimator, \u001b[38;5;124m\"\u001b[39m\u001b[38;5;124mfit\u001b[39m\u001b[38;5;124m\"\u001b[39m):\n\u001b[0;32m-> 1335\u001b[0m     \u001b[38;5;28;01mraise\u001b[39;00m \u001b[38;5;167;01mValueError\u001b[39;00m(\n\u001b[1;32m   1336\u001b[0m         \u001b[38;5;124mf\u001b[39m\u001b[38;5;124m\"\u001b[39m\u001b[38;5;124mEstimator \u001b[39m\u001b[38;5;132;01m{\u001b[39;00mestimator\u001b[38;5;132;01m}\u001b[39;00m\u001b[38;5;124m does not have the required fit() method.\u001b[39m\u001b[38;5;124m\"\u001b[39m\n\u001b[1;32m   1337\u001b[0m     )\n\u001b[1;32m   1339\u001b[0m \u001b[38;5;66;03m# checking fold parameter\u001b[39;00m\n\u001b[1;32m   1340\u001b[0m \u001b[38;5;28;01mif\u001b[39;00m fold \u001b[38;5;129;01mis\u001b[39;00m \u001b[38;5;129;01mnot\u001b[39;00m \u001b[38;5;28;01mNone\u001b[39;00m \u001b[38;5;129;01mand\u001b[39;00m \u001b[38;5;129;01mnot\u001b[39;00m (\n\u001b[1;32m   1341\u001b[0m     \u001b[38;5;28mtype\u001b[39m(fold) \u001b[38;5;129;01mis\u001b[39;00m \u001b[38;5;28mint\u001b[39m \u001b[38;5;129;01mor\u001b[39;00m is_sklearn_cv_generator(fold)\n\u001b[1;32m   1342\u001b[0m ):\n",
      "\u001b[0;31mValueError\u001b[0m: Estimator None does not have the required fit() method."
     ]
    }
   ],
   "source": [
    "s.automl()"
   ]
  },
  {
   "cell_type": "code",
   "execution_count": null,
   "metadata": {},
   "outputs": [],
   "source": []
  },
  {
   "cell_type": "code",
   "execution_count": null,
   "metadata": {},
   "outputs": [],
   "source": []
  },
  {
   "cell_type": "code",
   "execution_count": null,
   "metadata": {},
   "outputs": [],
   "source": []
  },
  {
   "cell_type": "code",
   "execution_count": null,
   "metadata": {},
   "outputs": [],
   "source": []
  },
  {
   "cell_type": "code",
   "execution_count": null,
   "metadata": {},
   "outputs": [],
   "source": []
  },
  {
   "cell_type": "code",
   "execution_count": 3,
   "metadata": {},
   "outputs": [
    {
     "data": {
      "text/html": [],
      "text/plain": [
       "<IPython.core.display.HTML object>"
      ]
     },
     "metadata": {},
     "output_type": "display_data"
    },
    {
     "data": {
      "text/html": [
       "<style type=\"text/css\">\n",
       "#T_78f2e th {\n",
       "  text-align: left;\n",
       "}\n",
       "#T_78f2e_row0_col0, #T_78f2e_row0_col2, #T_78f2e_row0_col5, #T_78f2e_row1_col0, #T_78f2e_row1_col1, #T_78f2e_row1_col3, #T_78f2e_row1_col4, #T_78f2e_row1_col6, #T_78f2e_row1_col7, #T_78f2e_row2_col0, #T_78f2e_row2_col1, #T_78f2e_row2_col2, #T_78f2e_row2_col3, #T_78f2e_row2_col4, #T_78f2e_row2_col5, #T_78f2e_row2_col6, #T_78f2e_row2_col7, #T_78f2e_row3_col0, #T_78f2e_row3_col1, #T_78f2e_row3_col2, #T_78f2e_row3_col3, #T_78f2e_row3_col4, #T_78f2e_row3_col5, #T_78f2e_row3_col6, #T_78f2e_row3_col7, #T_78f2e_row4_col0, #T_78f2e_row4_col1, #T_78f2e_row4_col2, #T_78f2e_row4_col3, #T_78f2e_row4_col4, #T_78f2e_row4_col5, #T_78f2e_row4_col6, #T_78f2e_row4_col7, #T_78f2e_row5_col0, #T_78f2e_row5_col1, #T_78f2e_row5_col2, #T_78f2e_row5_col3, #T_78f2e_row5_col4, #T_78f2e_row5_col5, #T_78f2e_row5_col6, #T_78f2e_row5_col7, #T_78f2e_row6_col0, #T_78f2e_row6_col1, #T_78f2e_row6_col2, #T_78f2e_row6_col3, #T_78f2e_row6_col4, #T_78f2e_row6_col5, #T_78f2e_row6_col6, #T_78f2e_row6_col7, #T_78f2e_row7_col0, #T_78f2e_row7_col1, #T_78f2e_row7_col2, #T_78f2e_row7_col3, #T_78f2e_row7_col4, #T_78f2e_row7_col5, #T_78f2e_row7_col6, #T_78f2e_row7_col7, #T_78f2e_row8_col0, #T_78f2e_row8_col1, #T_78f2e_row8_col2, #T_78f2e_row8_col3, #T_78f2e_row8_col4, #T_78f2e_row8_col5, #T_78f2e_row8_col6, #T_78f2e_row8_col7, #T_78f2e_row9_col0, #T_78f2e_row9_col1, #T_78f2e_row9_col2, #T_78f2e_row9_col3, #T_78f2e_row9_col4, #T_78f2e_row9_col5, #T_78f2e_row9_col6, #T_78f2e_row9_col7, #T_78f2e_row10_col0, #T_78f2e_row10_col1, #T_78f2e_row10_col2, #T_78f2e_row10_col3, #T_78f2e_row10_col4, #T_78f2e_row10_col5, #T_78f2e_row10_col6, #T_78f2e_row10_col7, #T_78f2e_row11_col0, #T_78f2e_row11_col1, #T_78f2e_row11_col2, #T_78f2e_row11_col3, #T_78f2e_row11_col4, #T_78f2e_row11_col5, #T_78f2e_row11_col6, #T_78f2e_row11_col7, #T_78f2e_row12_col0, #T_78f2e_row12_col1, #T_78f2e_row12_col2, #T_78f2e_row12_col3, #T_78f2e_row12_col4, #T_78f2e_row12_col5, #T_78f2e_row12_col6, #T_78f2e_row12_col7, #T_78f2e_row13_col0, #T_78f2e_row13_col1, #T_78f2e_row13_col2, #T_78f2e_row13_col3, #T_78f2e_row13_col4, #T_78f2e_row13_col5, #T_78f2e_row13_col6, #T_78f2e_row13_col7 {\n",
       "  text-align: left;\n",
       "}\n",
       "#T_78f2e_row0_col1, #T_78f2e_row0_col3, #T_78f2e_row0_col4, #T_78f2e_row0_col6, #T_78f2e_row0_col7, #T_78f2e_row1_col2, #T_78f2e_row1_col5 {\n",
       "  text-align: left;\n",
       "  background-color: yellow;\n",
       "}\n",
       "#T_78f2e_row0_col8, #T_78f2e_row1_col8, #T_78f2e_row2_col8, #T_78f2e_row3_col8, #T_78f2e_row4_col8, #T_78f2e_row5_col8, #T_78f2e_row6_col8, #T_78f2e_row8_col8, #T_78f2e_row9_col8, #T_78f2e_row10_col8, #T_78f2e_row11_col8, #T_78f2e_row12_col8, #T_78f2e_row13_col8 {\n",
       "  text-align: left;\n",
       "  background-color: lightgrey;\n",
       "}\n",
       "#T_78f2e_row7_col8 {\n",
       "  text-align: left;\n",
       "  background-color: yellow;\n",
       "  background-color: lightgrey;\n",
       "}\n",
       "</style>\n",
       "<table id=\"T_78f2e\">\n",
       "  <thead>\n",
       "    <tr>\n",
       "      <th class=\"blank level0\" >&nbsp;</th>\n",
       "      <th id=\"T_78f2e_level0_col0\" class=\"col_heading level0 col0\" >Model</th>\n",
       "      <th id=\"T_78f2e_level0_col1\" class=\"col_heading level0 col1\" >Accuracy</th>\n",
       "      <th id=\"T_78f2e_level0_col2\" class=\"col_heading level0 col2\" >AUC</th>\n",
       "      <th id=\"T_78f2e_level0_col3\" class=\"col_heading level0 col3\" >Recall</th>\n",
       "      <th id=\"T_78f2e_level0_col4\" class=\"col_heading level0 col4\" >Prec.</th>\n",
       "      <th id=\"T_78f2e_level0_col5\" class=\"col_heading level0 col5\" >F1</th>\n",
       "      <th id=\"T_78f2e_level0_col6\" class=\"col_heading level0 col6\" >Kappa</th>\n",
       "      <th id=\"T_78f2e_level0_col7\" class=\"col_heading level0 col7\" >MCC</th>\n",
       "      <th id=\"T_78f2e_level0_col8\" class=\"col_heading level0 col8\" >TT (Sec)</th>\n",
       "    </tr>\n",
       "  </thead>\n",
       "  <tbody>\n",
       "    <tr>\n",
       "      <th id=\"T_78f2e_level0_row0\" class=\"row_heading level0 row0\" >rf</th>\n",
       "      <td id=\"T_78f2e_row0_col0\" class=\"data row0 col0\" >Random Forest Classifier</td>\n",
       "      <td id=\"T_78f2e_row0_col1\" class=\"data row0 col1\" >0.6689</td>\n",
       "      <td id=\"T_78f2e_row0_col2\" class=\"data row0 col2\" >0.9077</td>\n",
       "      <td id=\"T_78f2e_row0_col3\" class=\"data row0 col3\" >0.6689</td>\n",
       "      <td id=\"T_78f2e_row0_col4\" class=\"data row0 col4\" >0.6526</td>\n",
       "      <td id=\"T_78f2e_row0_col5\" class=\"data row0 col5\" >0.6494</td>\n",
       "      <td id=\"T_78f2e_row0_col6\" class=\"data row0 col6\" >0.5693</td>\n",
       "      <td id=\"T_78f2e_row0_col7\" class=\"data row0 col7\" >0.5736</td>\n",
       "      <td id=\"T_78f2e_row0_col8\" class=\"data row0 col8\" >0.1140</td>\n",
       "    </tr>\n",
       "    <tr>\n",
       "      <th id=\"T_78f2e_level0_row1\" class=\"row_heading level0 row1\" >lightgbm</th>\n",
       "      <td id=\"T_78f2e_row1_col0\" class=\"data row1 col0\" >Light Gradient Boosting Machine</td>\n",
       "      <td id=\"T_78f2e_row1_col1\" class=\"data row1 col1\" >0.6679</td>\n",
       "      <td id=\"T_78f2e_row1_col2\" class=\"data row1 col2\" >0.9088</td>\n",
       "      <td id=\"T_78f2e_row1_col3\" class=\"data row1 col3\" >0.6679</td>\n",
       "      <td id=\"T_78f2e_row1_col4\" class=\"data row1 col4\" >0.6517</td>\n",
       "      <td id=\"T_78f2e_row1_col5\" class=\"data row1 col5\" >0.6511</td>\n",
       "      <td id=\"T_78f2e_row1_col6\" class=\"data row1 col6\" >0.5690</td>\n",
       "      <td id=\"T_78f2e_row1_col7\" class=\"data row1 col7\" >0.5723</td>\n",
       "      <td id=\"T_78f2e_row1_col8\" class=\"data row1 col8\" >666.6790</td>\n",
       "    </tr>\n",
       "    <tr>\n",
       "      <th id=\"T_78f2e_level0_row2\" class=\"row_heading level0 row2\" >et</th>\n",
       "      <td id=\"T_78f2e_row2_col0\" class=\"data row2 col0\" >Extra Trees Classifier</td>\n",
       "      <td id=\"T_78f2e_row2_col1\" class=\"data row2 col1\" >0.6628</td>\n",
       "      <td id=\"T_78f2e_row2_col2\" class=\"data row2 col2\" >0.9041</td>\n",
       "      <td id=\"T_78f2e_row2_col3\" class=\"data row2 col3\" >0.6628</td>\n",
       "      <td id=\"T_78f2e_row2_col4\" class=\"data row2 col4\" >0.6447</td>\n",
       "      <td id=\"T_78f2e_row2_col5\" class=\"data row2 col5\" >0.6427</td>\n",
       "      <td id=\"T_78f2e_row2_col6\" class=\"data row2 col6\" >0.5611</td>\n",
       "      <td id=\"T_78f2e_row2_col7\" class=\"data row2 col7\" >0.5655</td>\n",
       "      <td id=\"T_78f2e_row2_col8\" class=\"data row2 col8\" >0.1570</td>\n",
       "    </tr>\n",
       "    <tr>\n",
       "      <th id=\"T_78f2e_level0_row3\" class=\"row_heading level0 row3\" >gbc</th>\n",
       "      <td id=\"T_78f2e_row3_col0\" class=\"data row3 col0\" >Gradient Boosting Classifier</td>\n",
       "      <td id=\"T_78f2e_row3_col1\" class=\"data row3 col1\" >0.6624</td>\n",
       "      <td id=\"T_78f2e_row3_col2\" class=\"data row3 col2\" >0.9071</td>\n",
       "      <td id=\"T_78f2e_row3_col3\" class=\"data row3 col3\" >0.6624</td>\n",
       "      <td id=\"T_78f2e_row3_col4\" class=\"data row3 col4\" >0.6419</td>\n",
       "      <td id=\"T_78f2e_row3_col5\" class=\"data row3 col5\" >0.6426</td>\n",
       "      <td id=\"T_78f2e_row3_col6\" class=\"data row3 col6\" >0.5612</td>\n",
       "      <td id=\"T_78f2e_row3_col7\" class=\"data row3 col7\" >0.5654</td>\n",
       "      <td id=\"T_78f2e_row3_col8\" class=\"data row3 col8\" >0.1440</td>\n",
       "    </tr>\n",
       "    <tr>\n",
       "      <th id=\"T_78f2e_level0_row4\" class=\"row_heading level0 row4\" >lr</th>\n",
       "      <td id=\"T_78f2e_row4_col0\" class=\"data row4 col0\" >Logistic Regression</td>\n",
       "      <td id=\"T_78f2e_row4_col1\" class=\"data row4 col1\" >0.6361</td>\n",
       "      <td id=\"T_78f2e_row4_col2\" class=\"data row4 col2\" >0.8887</td>\n",
       "      <td id=\"T_78f2e_row4_col3\" class=\"data row4 col3\" >0.6361</td>\n",
       "      <td id=\"T_78f2e_row4_col4\" class=\"data row4 col4\" >0.6054</td>\n",
       "      <td id=\"T_78f2e_row4_col5\" class=\"data row4 col5\" >0.5974</td>\n",
       "      <td id=\"T_78f2e_row4_col6\" class=\"data row4 col6\" >0.5220</td>\n",
       "      <td id=\"T_78f2e_row4_col7\" class=\"data row4 col7\" >0.5329</td>\n",
       "      <td id=\"T_78f2e_row4_col8\" class=\"data row4 col8\" >0.2580</td>\n",
       "    </tr>\n",
       "    <tr>\n",
       "      <th id=\"T_78f2e_level0_row5\" class=\"row_heading level0 row5\" >ridge</th>\n",
       "      <td id=\"T_78f2e_row5_col0\" class=\"data row5 col0\" >Ridge Classifier</td>\n",
       "      <td id=\"T_78f2e_row5_col1\" class=\"data row5 col1\" >0.6228</td>\n",
       "      <td id=\"T_78f2e_row5_col2\" class=\"data row5 col2\" >0.0000</td>\n",
       "      <td id=\"T_78f2e_row5_col3\" class=\"data row5 col3\" >0.6228</td>\n",
       "      <td id=\"T_78f2e_row5_col4\" class=\"data row5 col4\" >0.5868</td>\n",
       "      <td id=\"T_78f2e_row5_col5\" class=\"data row5 col5\" >0.5748</td>\n",
       "      <td id=\"T_78f2e_row5_col6\" class=\"data row5 col6\" >0.5021</td>\n",
       "      <td id=\"T_78f2e_row5_col7\" class=\"data row5 col7\" >0.5172</td>\n",
       "      <td id=\"T_78f2e_row5_col8\" class=\"data row5 col8\" >0.0280</td>\n",
       "    </tr>\n",
       "    <tr>\n",
       "      <th id=\"T_78f2e_level0_row6\" class=\"row_heading level0 row6\" >lda</th>\n",
       "      <td id=\"T_78f2e_row6_col0\" class=\"data row6 col0\" >Linear Discriminant Analysis</td>\n",
       "      <td id=\"T_78f2e_row6_col1\" class=\"data row6 col1\" >0.6210</td>\n",
       "      <td id=\"T_78f2e_row6_col2\" class=\"data row6 col2\" >0.8829</td>\n",
       "      <td id=\"T_78f2e_row6_col3\" class=\"data row6 col3\" >0.6210</td>\n",
       "      <td id=\"T_78f2e_row6_col4\" class=\"data row6 col4\" >0.6005</td>\n",
       "      <td id=\"T_78f2e_row6_col5\" class=\"data row6 col5\" >0.6033</td>\n",
       "      <td id=\"T_78f2e_row6_col6\" class=\"data row6 col6\" >0.5111</td>\n",
       "      <td id=\"T_78f2e_row6_col7\" class=\"data row6 col7\" >0.5145</td>\n",
       "      <td id=\"T_78f2e_row6_col8\" class=\"data row6 col8\" >0.0370</td>\n",
       "    </tr>\n",
       "    <tr>\n",
       "      <th id=\"T_78f2e_level0_row7\" class=\"row_heading level0 row7\" >svm</th>\n",
       "      <td id=\"T_78f2e_row7_col0\" class=\"data row7 col0\" >SVM - Linear Kernel</td>\n",
       "      <td id=\"T_78f2e_row7_col1\" class=\"data row7 col1\" >0.6137</td>\n",
       "      <td id=\"T_78f2e_row7_col2\" class=\"data row7 col2\" >0.0000</td>\n",
       "      <td id=\"T_78f2e_row7_col3\" class=\"data row7 col3\" >0.6137</td>\n",
       "      <td id=\"T_78f2e_row7_col4\" class=\"data row7 col4\" >0.5827</td>\n",
       "      <td id=\"T_78f2e_row7_col5\" class=\"data row7 col5\" >0.5507</td>\n",
       "      <td id=\"T_78f2e_row7_col6\" class=\"data row7 col6\" >0.4883</td>\n",
       "      <td id=\"T_78f2e_row7_col7\" class=\"data row7 col7\" >0.5093</td>\n",
       "      <td id=\"T_78f2e_row7_col8\" class=\"data row7 col8\" >0.0260</td>\n",
       "    </tr>\n",
       "    <tr>\n",
       "      <th id=\"T_78f2e_level0_row8\" class=\"row_heading level0 row8\" >qda</th>\n",
       "      <td id=\"T_78f2e_row8_col0\" class=\"data row8 col0\" >Quadratic Discriminant Analysis</td>\n",
       "      <td id=\"T_78f2e_row8_col1\" class=\"data row8 col1\" >0.6064</td>\n",
       "      <td id=\"T_78f2e_row8_col2\" class=\"data row8 col2\" >0.8894</td>\n",
       "      <td id=\"T_78f2e_row8_col3\" class=\"data row8 col3\" >0.6064</td>\n",
       "      <td id=\"T_78f2e_row8_col4\" class=\"data row8 col4\" >0.6090</td>\n",
       "      <td id=\"T_78f2e_row8_col5\" class=\"data row8 col5\" >0.5622</td>\n",
       "      <td id=\"T_78f2e_row8_col6\" class=\"data row8 col6\" >0.4953</td>\n",
       "      <td id=\"T_78f2e_row8_col7\" class=\"data row8 col7\" >0.5109</td>\n",
       "      <td id=\"T_78f2e_row8_col8\" class=\"data row8 col8\" >0.0310</td>\n",
       "    </tr>\n",
       "    <tr>\n",
       "      <th id=\"T_78f2e_level0_row9\" class=\"row_heading level0 row9\" >knn</th>\n",
       "      <td id=\"T_78f2e_row9_col0\" class=\"data row9 col0\" >K Neighbors Classifier</td>\n",
       "      <td id=\"T_78f2e_row9_col1\" class=\"data row9 col1\" >0.6033</td>\n",
       "      <td id=\"T_78f2e_row9_col2\" class=\"data row9 col2\" >0.8485</td>\n",
       "      <td id=\"T_78f2e_row9_col3\" class=\"data row9 col3\" >0.6033</td>\n",
       "      <td id=\"T_78f2e_row9_col4\" class=\"data row9 col4\" >0.5872</td>\n",
       "      <td id=\"T_78f2e_row9_col5\" class=\"data row9 col5\" >0.5916</td>\n",
       "      <td id=\"T_78f2e_row9_col6\" class=\"data row9 col6\" >0.4877</td>\n",
       "      <td id=\"T_78f2e_row9_col7\" class=\"data row9 col7\" >0.4889</td>\n",
       "      <td id=\"T_78f2e_row9_col8\" class=\"data row9 col8\" >0.0580</td>\n",
       "    </tr>\n",
       "    <tr>\n",
       "      <th id=\"T_78f2e_level0_row10\" class=\"row_heading level0 row10\" >nb</th>\n",
       "      <td id=\"T_78f2e_row10_col0\" class=\"data row10 col0\" >Naive Bayes</td>\n",
       "      <td id=\"T_78f2e_row10_col1\" class=\"data row10 col1\" >0.5809</td>\n",
       "      <td id=\"T_78f2e_row10_col2\" class=\"data row10 col2\" >0.8651</td>\n",
       "      <td id=\"T_78f2e_row10_col3\" class=\"data row10 col3\" >0.5809</td>\n",
       "      <td id=\"T_78f2e_row10_col4\" class=\"data row10 col4\" >0.5473</td>\n",
       "      <td id=\"T_78f2e_row10_col5\" class=\"data row10 col5\" >0.5312</td>\n",
       "      <td id=\"T_78f2e_row10_col6\" class=\"data row10 col6\" >0.4565</td>\n",
       "      <td id=\"T_78f2e_row10_col7\" class=\"data row10 col7\" >0.4708</td>\n",
       "      <td id=\"T_78f2e_row10_col8\" class=\"data row10 col8\" >0.0340</td>\n",
       "    </tr>\n",
       "    <tr>\n",
       "      <th id=\"T_78f2e_level0_row11\" class=\"row_heading level0 row11\" >dt</th>\n",
       "      <td id=\"T_78f2e_row11_col0\" class=\"data row11 col0\" >Decision Tree Classifier</td>\n",
       "      <td id=\"T_78f2e_row11_col1\" class=\"data row11 col1\" >0.5488</td>\n",
       "      <td id=\"T_78f2e_row11_col2\" class=\"data row11 col2\" >0.7175</td>\n",
       "      <td id=\"T_78f2e_row11_col3\" class=\"data row11 col3\" >0.5488</td>\n",
       "      <td id=\"T_78f2e_row11_col4\" class=\"data row11 col4\" >0.5518</td>\n",
       "      <td id=\"T_78f2e_row11_col5\" class=\"data row11 col5\" >0.5498</td>\n",
       "      <td id=\"T_78f2e_row11_col6\" class=\"data row11 col6\" >0.4245</td>\n",
       "      <td id=\"T_78f2e_row11_col7\" class=\"data row11 col7\" >0.4247</td>\n",
       "      <td id=\"T_78f2e_row11_col8\" class=\"data row11 col8\" >0.0300</td>\n",
       "    </tr>\n",
       "    <tr>\n",
       "      <th id=\"T_78f2e_level0_row12\" class=\"row_heading level0 row12\" >ada</th>\n",
       "      <td id=\"T_78f2e_row12_col0\" class=\"data row12 col0\" >Ada Boost Classifier</td>\n",
       "      <td id=\"T_78f2e_row12_col1\" class=\"data row12 col1\" >0.5092</td>\n",
       "      <td id=\"T_78f2e_row12_col2\" class=\"data row12 col2\" >0.8204</td>\n",
       "      <td id=\"T_78f2e_row12_col3\" class=\"data row12 col3\" >0.5092</td>\n",
       "      <td id=\"T_78f2e_row12_col4\" class=\"data row12 col4\" >0.5419</td>\n",
       "      <td id=\"T_78f2e_row12_col5\" class=\"data row12 col5\" >0.5055</td>\n",
       "      <td id=\"T_78f2e_row12_col6\" class=\"data row12 col6\" >0.3852</td>\n",
       "      <td id=\"T_78f2e_row12_col7\" class=\"data row12 col7\" >0.3938</td>\n",
       "      <td id=\"T_78f2e_row12_col8\" class=\"data row12 col8\" >0.0370</td>\n",
       "    </tr>\n",
       "    <tr>\n",
       "      <th id=\"T_78f2e_level0_row13\" class=\"row_heading level0 row13\" >dummy</th>\n",
       "      <td id=\"T_78f2e_row13_col0\" class=\"data row13 col0\" >Dummy Classifier</td>\n",
       "      <td id=\"T_78f2e_row13_col1\" class=\"data row13 col1\" >0.2970</td>\n",
       "      <td id=\"T_78f2e_row13_col2\" class=\"data row13 col2\" >0.5000</td>\n",
       "      <td id=\"T_78f2e_row13_col3\" class=\"data row13 col3\" >0.2970</td>\n",
       "      <td id=\"T_78f2e_row13_col4\" class=\"data row13 col4\" >0.0882</td>\n",
       "      <td id=\"T_78f2e_row13_col5\" class=\"data row13 col5\" >0.1360</td>\n",
       "      <td id=\"T_78f2e_row13_col6\" class=\"data row13 col6\" >0.0000</td>\n",
       "      <td id=\"T_78f2e_row13_col7\" class=\"data row13 col7\" >0.0000</td>\n",
       "      <td id=\"T_78f2e_row13_col8\" class=\"data row13 col8\" >0.1690</td>\n",
       "    </tr>\n",
       "  </tbody>\n",
       "</table>\n"
      ],
      "text/plain": [
       "<pandas.io.formats.style.Styler at 0x7fe5e2d82d60>"
      ]
     },
     "metadata": {},
     "output_type": "display_data"
    },
    {
     "data": {
      "text/html": [],
      "text/plain": [
       "<IPython.core.display.HTML object>"
      ]
     },
     "metadata": {},
     "output_type": "display_data"
    },
    {
     "name": "stdout",
     "output_type": "stream",
     "text": [
      "RandomForestClassifier(bootstrap=True, ccp_alpha=0.0, class_weight=None,\n",
      "                       criterion='gini', max_depth=None, max_features='sqrt',\n",
      "                       max_leaf_nodes=None, max_samples=None,\n",
      "                       min_impurity_decrease=0.0, min_samples_leaf=1,\n",
      "                       min_samples_split=2, min_weight_fraction_leaf=0.0,\n",
      "                       n_estimators=100, n_jobs=-1, oob_score=False,\n",
      "                       random_state=1, verbose=0, warm_start=False)\n"
     ]
    }
   ],
   "source": [
    "# OOP API\n",
    "best = s.compare_models(errors=\"raise\" )\n",
    "print(best)"
   ]
  },
  {
   "cell_type": "code",
   "execution_count": 14,
   "metadata": {},
   "outputs": [
    {
     "data": {
      "image/png": "[encoded data removed]",
      "text/plain": [
       "<Figure size 1200x600 with 1 Axes>"
      ]
     },
     "metadata": {},
     "output_type": "display_data"
    },
    {
     "data": {
      "application/vnd.jupyter.widget-view+json": {
       "model_id": "9508ac55ed8142e484aa1c35d9ab3675",
       "version_major": 2,
       "version_minor": 0
      },
      "text/plain": [
       "interactive(children=(ToggleButtons(description='Plot Type:', icons=('',), options=(('Pipeline Plot', 'pipelin…"
      ]
     },
     "metadata": {},
     "output_type": "display_data"
    }
   ],
   "source": [
    "# OOP API\n",
    "s.evaluate_model(best)"
   ]
  },
  {
   "cell_type": "code",
   "execution_count": null,
   "metadata": {},
   "outputs": [],
   "source": []
  },
  {
   "cell_type": "code",
   "execution_count": 5,
   "metadata": {},
   "outputs": [
    {
     "data": {
      "text/html": [
       "<style>#sk-container-id-1 {color: black;background-color: white;}#sk-container-id-1 pre{padding: 0;}#sk-container-id-1 div.sk-toggleable {background-color: white;}#sk-container-id-1 label.sk-toggleable__label {cursor: pointer;display: block;width: 100%;margin-bottom: 0;padding: 0.3em;box-sizing: border-box;text-align: center;}#sk-container-id-1 label.sk-toggleable__label-arrow:before {content: \"▸\";float: left;margin-right: 0.25em;color: #696969;}#sk-container-id-1 label.sk-toggleable__label-arrow:hover:before {color: black;}#sk-container-id-1 div.sk-estimator:hover label.sk-toggleable__label-arrow:before {color: black;}#sk-container-id-1 div.sk-toggleable__content {max-height: 0;max-width: 0;overflow: hidden;text-align: left;background-color: #f0f8ff;}#sk-container-id-1 div.sk-toggleable__content pre {margin: 0.2em;color: black;border-radius: 0.25em;background-color: #f0f8ff;}#sk-container-id-1 input.sk-toggleable__control:checked~div.sk-toggleable__content {max-height: 200px;max-width: 100%;overflow: auto;}#sk-container-id-1 input.sk-toggleable__control:checked~label.sk-toggleable__label-arrow:before {content: \"▾\";}#sk-container-id-1 div.sk-estimator input.sk-toggleable__control:checked~label.sk-toggleable__label {background-color: #d4ebff;}#sk-container-id-1 div.sk-label input.sk-toggleable__control:checked~label.sk-toggleable__label {background-color: #d4ebff;}#sk-container-id-1 input.sk-hidden--visually {border: 0;clip: rect(1px 1px 1px 1px);clip: rect(1px, 1px, 1px, 1px);height: 1px;margin: -1px;overflow: hidden;padding: 0;position: absolute;width: 1px;}#sk-container-id-1 div.sk-estimator {font-family: monospace;background-color: #f0f8ff;border: 1px dotted black;border-radius: 0.25em;box-sizing: border-box;margin-bottom: 0.5em;}#sk-container-id-1 div.sk-estimator:hover {background-color: #d4ebff;}#sk-container-id-1 div.sk-parallel-item::after {content: \"\";width: 100%;border-bottom: 1px solid gray;flex-grow: 1;}#sk-container-id-1 div.sk-label:hover label.sk-toggleable__label {background-color: #d4ebff;}#sk-container-id-1 div.sk-serial::before {content: \"\";position: absolute;border-left: 1px solid gray;box-sizing: border-box;top: 0;bottom: 0;left: 50%;z-index: 0;}#sk-container-id-1 div.sk-serial {display: flex;flex-direction: column;align-items: center;background-color: white;padding-right: 0.2em;padding-left: 0.2em;position: relative;}#sk-container-id-1 div.sk-item {position: relative;z-index: 1;}#sk-container-id-1 div.sk-parallel {display: flex;align-items: stretch;justify-content: center;background-color: white;position: relative;}#sk-container-id-1 div.sk-item::before, #sk-container-id-1 div.sk-parallel-item::before {content: \"\";position: absolute;border-left: 1px solid gray;box-sizing: border-box;top: 0;bottom: 0;left: 50%;z-index: -1;}#sk-container-id-1 div.sk-parallel-item {display: flex;flex-direction: column;z-index: 1;position: relative;background-color: white;}#sk-container-id-1 div.sk-parallel-item:first-child::after {align-self: flex-end;width: 50%;}#sk-container-id-1 div.sk-parallel-item:last-child::after {align-self: flex-start;width: 50%;}#sk-container-id-1 div.sk-parallel-item:only-child::after {width: 0;}#sk-container-id-1 div.sk-dashed-wrapped {border: 1px dashed gray;margin: 0 0.4em 0.5em 0.4em;box-sizing: border-box;padding-bottom: 0.4em;background-color: white;}#sk-container-id-1 div.sk-label label {font-family: monospace;font-weight: bold;display: inline-block;line-height: 1.2em;}#sk-container-id-1 div.sk-label-container {text-align: center;}#sk-container-id-1 div.sk-container {/* jupyter's `normalize.less` sets `[hidden] { display: none; }` but bootstrap.min.css set `[hidden] { display: none !important; }` so we also need the `!important` here to be able to override the default hidden behavior on the sphinx rendered scikit-learn.org. See: https://github.com/scikit-learn/scikit-learn/issues/21755 */display: inline-block !important;position: relative;}#sk-container-id-1 div.sk-text-repr-fallback {display: none;}</style><div id=\"sk-container-id-1\" class=\"sk-top-container\"><div class=\"sk-text-repr-fallback\"><pre>RandomForestClassifier(bootstrap=True, ccp_alpha=0.0, class_weight=None,\n",
       "                       criterion=&#x27;gini&#x27;, max_depth=None, max_features=&#x27;sqrt&#x27;,\n",
       "                       max_leaf_nodes=None, max_samples=None,\n",
       "                       min_impurity_decrease=0.0, min_samples_leaf=1,\n",
       "                       min_samples_split=2, min_weight_fraction_leaf=0.0,\n",
       "                       n_estimators=100, n_jobs=-1, oob_score=False,\n",
       "                       random_state=1, verbose=0, warm_start=False)</pre><b>In a Jupyter environment, please rerun this cell to show the HTML representation or trust the notebook. <br />On GitHub, the HTML representation is unable to render, please try loading this page with nbviewer.org.</b></div><div class=\"sk-container\" hidden><div class=\"sk-item\"><div class=\"sk-estimator sk-toggleable\"><input class=\"sk-toggleable__control sk-hidden--visually\" id=\"sk-estimator-id-1\" type=\"checkbox\" checked><label for=\"sk-estimator-id-1\" class=\"sk-toggleable__label sk-toggleable__label-arrow\">RandomForestClassifier</label><div class=\"sk-toggleable__content\"><pre>RandomForestClassifier(bootstrap=True, ccp_alpha=0.0, class_weight=None,\n",
       "                       criterion=&#x27;gini&#x27;, max_depth=None, max_features=&#x27;sqrt&#x27;,\n",
       "                       max_leaf_nodes=None, max_samples=None,\n",
       "                       min_impurity_decrease=0.0, min_samples_leaf=1,\n",
       "                       min_samples_split=2, min_weight_fraction_leaf=0.0,\n",
       "                       n_estimators=100, n_jobs=-1, oob_score=False,\n",
       "                       random_state=1, verbose=0, warm_start=False)</pre></div></div></div></div></div>"
      ],
      "text/plain": [
       "RandomForestClassifier(bootstrap=True, ccp_alpha=0.0, class_weight=None,\n",
       "                       criterion='gini', max_depth=None, max_features='sqrt',\n",
       "                       max_leaf_nodes=None, max_samples=None,\n",
       "                       min_impurity_decrease=0.0, min_samples_leaf=1,\n",
       "                       min_samples_split=2, min_weight_fraction_leaf=0.0,\n",
       "                       n_estimators=100, n_jobs=-1, oob_score=False,\n",
       "                       random_state=1, verbose=0, warm_start=False)"
      ]
     },
     "execution_count": 5,
     "metadata": {},
     "output_type": "execute_result"
    }
   ],
   "source": [
    "best"
   ]
  },
  {
   "cell_type": "code",
   "execution_count": 10,
   "metadata": {},
   "outputs": [
    {
     "name": "stdout",
     "output_type": "stream",
     "text": [
      "Transformation Pipeline and Model Successfully Saved\n"
     ]
    },
    {
     "data": {
      "text/plain": [
       "(Pipeline(memory=FastMemory(location=/tmp/joblib),\n",
       "          steps=[('numerical_imputer',\n",
       "                  TransformerWrapper(exclude=None,\n",
       "                                     include=['Att1', 'Att2', 'Att3', 'Att4',\n",
       "                                              'Att5', 'Att6', 'Att7', 'Att8',\n",
       "                                              'Att9', 'Att10', 'Att11', 'Att12',\n",
       "                                              'Att13', 'Att14', 'Att15', 'Att16',\n",
       "                                              'Att17', 'Att18', 'Att19', 'Att20',\n",
       "                                              'Att21', 'Att22', 'Att23', 'Att24',\n",
       "                                              'Att25', 'Att26', 'Att27', 'Att28',\n",
       "                                              'Att29', 'Att30', ....\n",
       "                  RandomForestClassifier(bootstrap=True, ccp_alpha=0.0,\n",
       "                                         class_weight=None, criterion='gini',\n",
       "                                         max_depth=None, max_features='sqrt',\n",
       "                                         max_leaf_nodes=None, max_samples=None,\n",
       "                                         min_impurity_decrease=0.0,\n",
       "                                         min_samples_leaf=1, min_samples_split=2,\n",
       "                                         min_weight_fraction_leaf=0.0,\n",
       "                                         n_estimators=100, n_jobs=-1,\n",
       "                                         oob_score=False, random_state=1,\n",
       "                                         verbose=0, warm_start=False))],\n",
       "          verbose=False),\n",
       " 'RandomForestClassifier.pkl')"
      ]
     },
     "execution_count": 10,
     "metadata": {},
     "output_type": "execute_result"
    }
   ],
   "source": [
    "s.save_model(best, \"RandomForestClassifier\")"
   ]
  },
  {
   "cell_type": "code",
   "execution_count": 13,
   "metadata": {},
   "outputs": [],
   "source": [
    "# save experiment\n",
    "from pycaret.classification import save_experiment\n",
    "s.save_experiment('pycaret_experiment')"
   ]
  },
  {
   "cell_type": "code",
   "execution_count": null,
   "metadata": {},
   "outputs": [],
   "source": []
  },
  {
   "cell_type": "code",
   "execution_count": 14,
   "metadata": {},
   "outputs": [],
   "source": [
    "y = df_train.pop(\"class\")\n",
    "X = df_train"
   ]
  },
  {
   "cell_type": "code",
   "execution_count": 27,
   "metadata": {},
   "outputs": [],
   "source": [
    "from sklearn.preprocessing import LabelEncoder\n",
    "le = LabelEncoder()\n",
    "y_hat = le.fit_transform(y)\n",
    "\n",
    "# y_hat\n",
    "# le.inverse_transform(y_hat)"
   ]
  },
  {
   "attachments": {},
   "cell_type": "markdown",
   "metadata": {},
   "source": [
    "## TODO: Data preparation\n",
    "\n",
    "Given the nature of SVC, maybe is a good thing to properly scale some attributes."
   ]
  },
  {
   "cell_type": "code",
   "execution_count": null,
   "metadata": {},
   "outputs": [],
   "source": []
  },
  {
   "cell_type": "code",
   "execution_count": 22,
   "metadata": {},
   "outputs": [],
   "source": [
    "# numeric_features = [\"age\", \"fare\"]\n",
    "\n",
    "# numeric_transformer = Pipeline(\n",
    "#     steps=[(\"imputer\", SimpleImputer(strategy=\"median\")), (\"scaler\", StandardScaler())]\n",
    "# )\n",
    "\n",
    "# categorical_features = [\"embarked\", \"sex\", \"pclass\"]\n",
    "\n",
    "# categorical_transformer = Pipeline(\n",
    "#     steps=[\n",
    "#         (\"encoder\", OneHotEncoder(handle_unknown=\"ignore\")),\n",
    "#         (\"selector\", SelectPercentile(chi2, percentile=50)),\n",
    "#     ]\n",
    "# )\n",
    "\n",
    "# preprocessor = ColumnTransformer(\n",
    "#     transformers=[\n",
    "#         (\"num\", numeric_transformer, numeric_features),\n",
    "#         (\"cat\", categorical_transformer, categorical_features),\n",
    "#     ]\n",
    "# )\n",
    "\n",
    "# clf = Pipeline(\n",
    "#     steps=[(\"preprocessor\", preprocessor), (\"classifier\", LogisticRegression())]\n",
    "# )\n",
    "\n",
    "# X_train, X_test, y_train, y_test = train_test_split(X, y, test_size=0.2, random_state=0)\n",
    "\n",
    "# clf.fit(X_train, y_train)\n",
    "# print(\"model score: %.3f\" % clf.score(X_test, y_test))\n"
   ]
  },
  {
   "cell_type": "code",
   "execution_count": 28,
   "metadata": {},
   "outputs": [
    {
     "data": {
      "text/html": [
       "<style>#sk-container-id-1 {color: black;}#sk-container-id-1 pre{padding: 0;}#sk-container-id-1 div.sk-toggleable {background-color: white;}#sk-container-id-1 label.sk-toggleable__label {cursor: pointer;display: block;width: 100%;margin-bottom: 0;padding: 0.3em;box-sizing: border-box;text-align: center;}#sk-container-id-1 label.sk-toggleable__label-arrow:before {content: \"▸\";float: left;margin-right: 0.25em;color: #696969;}#sk-container-id-1 label.sk-toggleable__label-arrow:hover:before {color: black;}#sk-container-id-1 div.sk-estimator:hover label.sk-toggleable__label-arrow:before {color: black;}#sk-container-id-1 div.sk-toggleable__content {max-height: 0;max-width: 0;overflow: hidden;text-align: left;background-color: #f0f8ff;}#sk-container-id-1 div.sk-toggleable__content pre {margin: 0.2em;color: black;border-radius: 0.25em;background-color: #f0f8ff;}#sk-container-id-1 input.sk-toggleable__control:checked~div.sk-toggleable__content {max-height: 200px;max-width: 100%;overflow: auto;}#sk-container-id-1 input.sk-toggleable__control:checked~label.sk-toggleable__label-arrow:before {content: \"▾\";}#sk-container-id-1 div.sk-estimator input.sk-toggleable__control:checked~label.sk-toggleable__label {background-color: #d4ebff;}#sk-container-id-1 div.sk-label input.sk-toggleable__control:checked~label.sk-toggleable__label {background-color: #d4ebff;}#sk-container-id-1 input.sk-hidden--visually {border: 0;clip: rect(1px 1px 1px 1px);clip: rect(1px, 1px, 1px, 1px);height: 1px;margin: -1px;overflow: hidden;padding: 0;position: absolute;width: 1px;}#sk-container-id-1 div.sk-estimator {font-family: monospace;background-color: #f0f8ff;border: 1px dotted black;border-radius: 0.25em;box-sizing: border-box;margin-bottom: 0.5em;}#sk-container-id-1 div.sk-estimator:hover {background-color: #d4ebff;}#sk-container-id-1 div.sk-parallel-item::after {content: \"\";width: 100%;border-bottom: 1px solid gray;flex-grow: 1;}#sk-container-id-1 div.sk-label:hover label.sk-toggleable__label {background-color: #d4ebff;}#sk-container-id-1 div.sk-serial::before {content: \"\";position: absolute;border-left: 1px solid gray;box-sizing: border-box;top: 0;bottom: 0;left: 50%;z-index: 0;}#sk-container-id-1 div.sk-serial {display: flex;flex-direction: column;align-items: center;background-color: white;padding-right: 0.2em;padding-left: 0.2em;position: relative;}#sk-container-id-1 div.sk-item {position: relative;z-index: 1;}#sk-container-id-1 div.sk-parallel {display: flex;align-items: stretch;justify-content: center;background-color: white;position: relative;}#sk-container-id-1 div.sk-item::before, #sk-container-id-1 div.sk-parallel-item::before {content: \"\";position: absolute;border-left: 1px solid gray;box-sizing: border-box;top: 0;bottom: 0;left: 50%;z-index: -1;}#sk-container-id-1 div.sk-parallel-item {display: flex;flex-direction: column;z-index: 1;position: relative;background-color: white;}#sk-container-id-1 div.sk-parallel-item:first-child::after {align-self: flex-end;width: 50%;}#sk-container-id-1 div.sk-parallel-item:last-child::after {align-self: flex-start;width: 50%;}#sk-container-id-1 div.sk-parallel-item:only-child::after {width: 0;}#sk-container-id-1 div.sk-dashed-wrapped {border: 1px dashed gray;margin: 0 0.4em 0.5em 0.4em;box-sizing: border-box;padding-bottom: 0.4em;background-color: white;}#sk-container-id-1 div.sk-label label {font-family: monospace;font-weight: bold;display: inline-block;line-height: 1.2em;}#sk-container-id-1 div.sk-label-container {text-align: center;}#sk-container-id-1 div.sk-container {/* jupyter's `normalize.less` sets `[hidden] { display: none; }` but bootstrap.min.css set `[hidden] { display: none !important; }` so we also need the `!important` here to be able to override the default hidden behavior on the sphinx rendered scikit-learn.org. See: https://github.com/scikit-learn/scikit-learn/issues/21755 */display: inline-block !important;position: relative;}#sk-container-id-1 div.sk-text-repr-fallback {display: none;}</style><div id=\"sk-container-id-1\" class=\"sk-top-container\"><div class=\"sk-text-repr-fallback\"><pre>SVC(C=1000, kernel=&#x27;linear&#x27;)</pre><b>In a Jupyter environment, please rerun this cell to show the HTML representation or trust the notebook. <br />On GitHub, the HTML representation is unable to render, please try loading this page with nbviewer.org.</b></div><div class=\"sk-container\" hidden><div class=\"sk-item\"><div class=\"sk-estimator sk-toggleable\"><input class=\"sk-toggleable__control sk-hidden--visually\" id=\"sk-estimator-id-1\" type=\"checkbox\" checked><label for=\"sk-estimator-id-1\" class=\"sk-toggleable__label sk-toggleable__label-arrow\">SVC</label><div class=\"sk-toggleable__content\"><pre>SVC(C=1000, kernel=&#x27;linear&#x27;)</pre></div></div></div></div></div>"
      ],
      "text/plain": [
       "SVC(C=1000, kernel='linear')"
      ]
     },
     "execution_count": 28,
     "metadata": {},
     "output_type": "execute_result"
    }
   ],
   "source": [
    "from sklearn import svm\n",
    "\n",
    "# Fit the model(took about 2 mins)\n",
    "clf = svm.SVC(kernel=\"linear\", C=1000) # this C parameter can actually be very wrong, but ok for now\n",
    "clf.fit(X, y_hat)"
   ]
  },
  {
   "cell_type": "code",
   "execution_count": 40,
   "metadata": {},
   "outputs": [],
   "source": [
    "y_test = df_test.pop(\"class\")\n",
    "X_test = df_test\n",
    "\n",
    "y_test_hat = le.transform(y_test)"
   ]
  },
  {
   "attachments": {},
   "cell_type": "markdown",
   "metadata": {},
   "source": [
    "### Check the performance on the rest of the dataframe\n",
    "\n",
    "The low value here can be because of the absence of any kind of data prep or because of the concept drift inherent to the dataset."
   ]
  },
  {
   "cell_type": "code",
   "execution_count": 43,
   "metadata": {},
   "outputs": [
    {
     "data": {
      "text/plain": [
       "0.46325075418228356"
      ]
     },
     "execution_count": 43,
     "metadata": {},
     "output_type": "execute_result"
    }
   ],
   "source": [
    "clf.score(X_test, y_test_hat)"
   ]
  },
  {
   "attachments": {},
   "cell_type": "markdown",
   "metadata": {},
   "source": [
    "### Check the performance on the training dataset just for curiosity\n",
    "\n",
    "It's a little bit low. "
   ]
  },
  {
   "cell_type": "code",
   "execution_count": 44,
   "metadata": {},
   "outputs": [
    {
     "data": {
      "text/plain": [
       "0.6568422519509476"
      ]
     },
     "execution_count": 44,
     "metadata": {},
     "output_type": "execute_result"
    }
   ],
   "source": [
    "clf.score(X, y_hat)"
   ]
  },
  {
   "attachments": {},
   "cell_type": "markdown",
   "metadata": {},
   "source": [
    "## Check for some better performance when using a grid searched classifier"
   ]
  },
  {
   "cell_type": "code",
   "execution_count": 50,
   "metadata": {},
   "outputs": [
    {
     "data": {
      "text/plain": [
       "['mean_fit_time',\n",
       " 'mean_score_time',\n",
       " 'mean_test_score',\n",
       " 'param_C',\n",
       " 'param_kernel',\n",
       " 'params',\n",
       " 'rank_test_score',\n",
       " 'split0_test_score',\n",
       " 'split1_test_score',\n",
       " 'split2_test_score',\n",
       " 'split3_test_score',\n",
       " 'split4_test_score',\n",
       " 'std_fit_time',\n",
       " 'std_score_time',\n",
       " 'std_test_score']"
      ]
     },
     "execution_count": 50,
     "metadata": {},
     "output_type": "execute_result"
    }
   ],
   "source": [
    "from sklearn.model_selection import GridSearchCV\n",
    "\n",
    "parameters = {'kernel':('linear', 'poly', 'rbf', 'sigmoid'), 'C':[1, 10, 100, 1000]}\n",
    "\n",
    "svc = svm.SVC()\n",
    "grid_clf = GridSearchCV(svc, parameters) # took 30mins\n",
    "grid_clf.fit(X, y_hat)\n",
    "\n",
    "sorted(grid_clf.cv_results_.keys())"
   ]
  },
  {
   "cell_type": "code",
   "execution_count": 52,
   "metadata": {},
   "outputs": [
    {
     "data": {
      "text/plain": [
       "0.47313892190023465"
      ]
     },
     "execution_count": 52,
     "metadata": {},
     "output_type": "execute_result"
    }
   ],
   "source": [
    "grid_clf.score(X_test, y_test_hat)"
   ]
  },
  {
   "attachments": {},
   "cell_type": "markdown",
   "metadata": {},
   "source": [
    "## TODO: check the feature importance"
   ]
  },
  {
   "cell_type": "code",
   "execution_count": null,
   "metadata": {},
   "outputs": [],
   "source": []
  },
  {
   "cell_type": "code",
   "execution_count": null,
   "metadata": {},
   "outputs": [],
   "source": []
  },
  {
   "attachments": {},
   "cell_type": "markdown",
   "metadata": {},
   "source": [
    "## TODO: Plot decision boundaries for pairs of attribures"
   ]
  },
  {
   "cell_type": "code",
   "execution_count": 39,
   "metadata": {},
   "outputs": [],
   "source": [
    "# import matplotlib.pyplot as plt\n",
    "# from sklearn.inspection import DecisionBoundaryDisplay\n",
    "\n",
    "# plt.scatter(X[\"Att1\"], X[\"Att2\"], c=y_hat, s=30, cmap=plt.cm.Paired)\n",
    "\n",
    "# # plot the decision function\n",
    "# ax = plt.gca()\n",
    "\n",
    "# DecisionBoundaryDisplay.from_estimator(\n",
    "#     clf,\n",
    "#     X,\n",
    "#     plot_method=\"contour\",\n",
    "#     colors=\"k\",\n",
    "#     levels=[-1, 0, 1],\n",
    "#     alpha=0.5,\n",
    "#     linestyles=[\"--\", \"-\", \"--\"],\n",
    "#     ax=ax,\n",
    "# )\n",
    "\n",
    "# # plot support vectors\n",
    "# ax.scatter(\n",
    "#     clf.support_vectors_[:, \"Att1\"],\n",
    "#     clf.support_vectors_[:, \"Att2\"],\n",
    "#     s=100,\n",
    "#     linewidth=1,\n",
    "#     facecolors=\"none\",\n",
    "#     edgecolors=\"k\",\n",
    "# )\n",
    "\n",
    "# plt.show()"
   ]
  },
  {
   "cell_type": "code",
   "execution_count": null,
   "metadata": {},
   "outputs": [],
   "source": []
  }
 ],
 "metadata": {
  "kernelspec": {
   "display_name": "Python 3 (ipykernel)",
   "language": "python",
   "name": "python3"
  },
  "language_info": {
   "codemirror_mode": {
    "name": "ipython",
    "version": 3
   },
   "file_extension": ".py",
   "mimetype": "text/x-python",
   "name": "python",
   "nbconvert_exporter": "python",
   "pygments_lexer": "ipython3",
   "version": "3.10.12"
  }
 },
 "nbformat": 4,
 "nbformat_minor": 4
}
