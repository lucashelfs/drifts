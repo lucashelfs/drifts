{
 "cells": [
  {
   "cell_type": "code",
   "execution_count": 13,
   "id": "9bc09f32-70e2-4a2a-bfdf-a276f6490567",
   "metadata": {},
   "outputs": [],
   "source": [
    "# Ref: https://medium.com/python-experiments/parallelising-in-python-mutithreading-and-mutiprocessing-with-practical-templates-c81d593c1c49\n",
    "# prime_mutiprocessing.py\n",
    "\n",
    "import time\n",
    "import math\n",
    "from multiprocessing import Pool\n",
    "from multiprocessing import freeze_support\n",
    "\n",
    "\n",
    "def run_multiprocessing(func, i, n_processors):\n",
    "    '''Define function to run mutiple processors and pool the results together'''\n",
    "    with Pool(processes=n_processors) as pool:\n",
    "        return pool.map(func, i)\n",
    "\n",
    "\n",
    "def is_prime(n):\n",
    "    '''Define task function'''\n",
    "    if (n < 2) or (n % 2 == 0 and n > 2):\n",
    "        return False\n",
    "    elif n == 2:\n",
    "        return True\n",
    "    elif n == 3:\n",
    "        return True\n",
    "    else:\n",
    "        for i in range(3, math.ceil(math.sqrt(n)) + 1, 2):\n",
    "            if n % i == 0:\n",
    "                return False\n",
    "        return True\n",
    "\n",
    "\n",
    "def main():\n",
    "    start = time.time()\n",
    "    \n",
    "    # set up parameters required by the task\n",
    "    num_max = 1000000\n",
    "    x_ls = list(range(num_max))\n",
    "       \n",
    "    # pass the task function, followed by the parameters to processors\n",
    "    n_processors =6\n",
    "    out = run_multiprocessing(is_prime, x_ls, n_processors)\n",
    "\n",
    "    # Infos about running time\n",
    "    print(\"Input length: {}\".format(len(x_ls)))\n",
    "    print(\"Output length: {}\".format(len(out)))\n",
    "    print(\"Mutiprocessing time: {}mins\\n\".format((time.time()-start)/60))\n",
    "    print(\"Mutiprocessing time: {}secs\\n\".format((time.time()-start)))\n",
    "    return out"
   ]
  },
  {
   "cell_type": "code",
   "execution_count": 10,
   "id": "00458d64-519b-45d8-afc7-da2fb81a0c9a",
   "metadata": {},
   "outputs": [
    {
     "name": "stdout",
     "output_type": "stream",
     "text": [
      "Input length: 1000000\n",
      "Output length: 1000000\n",
      "Mutiprocessing time: 0.012696945667266845mins\n",
      "\n",
      "Mutiprocessing time: 0.761829137802124secs\n",
      "\n"
     ]
    }
   ],
   "source": [
    "# if __name__ == \"__main__\":\n",
    "\n",
    "freeze_support()   # required to use multiprocessing\n",
    "out = main()"
   ]
  },
  {
   "cell_type": "code",
   "execution_count": 12,
   "id": "d7a3c218-2af2-44b3-ba0b-d49befd5eaee",
   "metadata": {},
   "outputs": [
    {
     "data": {
      "text/plain": [
       "[False, False, True, True, False]"
      ]
     },
     "execution_count": 12,
     "metadata": {},
     "output_type": "execute_result"
    }
   ],
   "source": [
    "out[:5]"
   ]
  },
  {
   "cell_type": "code",
   "execution_count": null,
   "id": "d1767753-1e9f-421b-9e86-673cf3fd55af",
   "metadata": {},
   "outputs": [],
   "source": []
  },
  {
   "cell_type": "code",
   "execution_count": null,
   "id": "422da5b2-1f68-4c98-8983-c08959824280",
   "metadata": {},
   "outputs": [],
   "source": []
  },
  {
   "cell_type": "code",
   "execution_count": 14,
   "id": "eb2bacff-39ad-4468-b502-5339b2912622",
   "metadata": {},
   "outputs": [
    {
     "name": "stdout",
     "output_type": "stream",
     "text": [
      "Single core:  5.7042642410087865\n",
      "True\n",
      "Multiprocessing:  1.6669687439862173\n"
     ]
    }
   ],
   "source": [
    "from multiprocessing import Process\n",
    "from multiprocessing import Pool\n",
    "import numpy as np\n",
    "from timeit import default_timer as timer\n",
    "\n",
    "NUM_EL = 150000\n",
    "WINDOW_SIZE = 1216\n",
    "DATA = list(range(NUM_EL))\n",
    "\n",
    "def window(start_idx, window_size=WINDOW_SIZE, data=DATA):\n",
    "    _train = np.array(data[start_idx:start_idx + window_size])\n",
    "    _test = np.array(data[start_idx + window_size + 1])\n",
    "    # return something useful here\n",
    "    return start_idx\n",
    "\n",
    "if __name__ == '__main__':\n",
    "    STARTS = list(range(NUM_EL - WINDOW_SIZE - 1))\n",
    "\n",
    "    start = timer()\n",
    "    result_single = list(map(window, STARTS))\n",
    "    end = timer()\n",
    "    print(\"Single core: \", end - start)\n",
    "\n",
    "    start = timer()\n",
    "    with Pool(4) as p:\n",
    "       result_multi = p.map(window, STARTS)\n",
    "\n",
    "    end = timer()\n",
    "    print(result_single == result_multi)\n",
    "    print(\"Multiprocessing: \", end - start)"
   ]
  },
  {
   "cell_type": "code",
   "execution_count": null,
   "id": "28180b85-2bfb-41cf-89cf-119d5d385923",
   "metadata": {},
   "outputs": [],
   "source": []
  },
  {
   "cell_type": "code",
   "execution_count": null,
   "id": "fd134962-b6cd-4237-b59e-a76d8c28c91d",
   "metadata": {},
   "outputs": [],
   "source": []
  }
 ],
 "metadata": {
  "kernelspec": {
   "display_name": "Python 3 (ipykernel)",
   "language": "python",
   "name": "python3"
  },
  "language_info": {
   "codemirror_mode": {
    "name": "ipython",
    "version": 3
   },
   "file_extension": ".py",
   "mimetype": "text/x-python",
   "name": "python",
   "nbconvert_exporter": "python",
   "pygments_lexer": "ipython3",
   "version": "3.10.12"
  }
 },
 "nbformat": 4,
 "nbformat_minor": 5
}
